{
 "cells": [
  {
   "cell_type": "markdown",
   "metadata": {
    "colab_type": "text",
    "id": "OsKzv3essJs0"
   },
   "source": [
    "# Climate dynamics with stochasticity"
   ]
  },
  {
   "cell_type": "markdown",
   "metadata": {
    "colab_type": "text",
    "id": "2WaYYHkFsJs2"
   },
   "source": [
    "This notebook contains a set of tools and procedures that are useful when exploring the zero-dimensional energy-balance model of Earth's climate. Feel free to edit, copy, paste, etc. as needed."
   ]
  },
  {
   "cell_type": "code",
   "execution_count": 0,
   "metadata": {
    "colab": {},
    "colab_type": "code",
    "id": "JLEV2h_tsJs3"
   },
   "outputs": [],
   "source": [
    "# Import relevant packages\n",
    "\n",
    "import matplotlib.pyplot as plt\n",
    "import numpy as np\n",
    "from scipy.integrate import odeint    # for solving ODEs\n",
    "from scipy.optimize import fsolve     # to find roots"
   ]
  },
  {
   "cell_type": "markdown",
   "metadata": {
    "colab_type": "text",
    "id": "YQXOuWUPsJs8"
   },
   "source": [
    "### A zero-dimentional global energy-balance model including ice–albedo feedback"
   ]
  },
  {
   "cell_type": "markdown",
   "metadata": {
    "colab_type": "text",
    "id": "7Y9O7dImsJtJ"
   },
   "source": [
    "Here we construct the model according to the energy balance model\n",
    "$$\\begin{aligned}\n",
    "C\\,\\frac{\\mathop{}\\!\\mathrm{d}T}{\\mathop{}\\!\\mathrm{d}t} &= \\frac{S_0}{4}(1-a) - \\varepsilon \\sigma T^4 \\\\\n",
    "\\tau_a\\,\\frac{\\mathop{}\\!\\mathrm{d}a}{\\mathop{}\\!\\mathrm{d}t} &= - \\bigl[a - a_{\\text{eq}}(T)\\bigr],\n",
    "\\end{aligned}$$\n",
    "where the albedo is modeled as a smooth step between mostly ice and mostly water conditions:\n",
    "$$\n",
    "a_{\\text{eq}}(T) = \\frac{(a_\\text{i}+a_\\text{w})}{2} - \\frac{(a_\\text{i}-a_\\text{w})}{2}\\tanh\\left(\\frac{T-T_\\text{c}}{w_T/2}\\right).\n",
    "$$\n",
    "\n",
    "To add noise, you can use `np.random.randn()`. For random samples $\\sim\\mathcal{N}(\\mu,\\sigma^2)$ use `sigma * np.random.randn() + mu`."
   ]
  },
  {
   "cell_type": "code",
   "execution_count": 0,
   "metadata": {
    "colab": {},
    "colab_type": "code",
    "id": "BqYmJjFnsJtK"
   },
   "outputs": [],
   "source": [
    "# Define physical parameters\n",
    "\n",
    "S0 = 1368.0       # W/m^2\n",
    "T0 = 288.0        # Kelvin (reference temperature scale)\n",
    "T_init = 240.0    # Kelvin (some initial condition)\n",
    "a_init = 0.35     # initial condition for albedo\n",
    "emissivity = 0.61 # so that Teq = 288 K\n",
    "sigma = 5.67e-8   # W/(m^2 K^4)\n",
    "beta = 5.0        # noise parameter\n",
    "delta = 1e-2      # ratio of time scales tT/ta\n",
    "year_to_sec = 3153600    # 1 year in seconds"
   ]
  },
  {
   "cell_type": "code",
   "execution_count": 0,
   "metadata": {
    "colab": {},
    "colab_type": "code",
    "id": "vq_UgMQ1sJtO"
   },
   "outputs": [],
   "source": [
    "# Define simulation parameters (set the time step, initialize arrays)\n",
    "\n",
    "timesteps = 500  # Number of time steps\n",
    "timepoints = np.linspace(0, 6, timesteps)    # in years\n",
    "tempsteps = 350  # Number of temperature steps\n",
    "temperature_range = np.linspace(200, 350, tempsteps)\n",
    "albedo = np.zeros(tempsteps)\n",
    "rad_incoming = np.zeros(tempsteps)\n",
    "rad_outgoing = np.zeros(tempsteps)"
   ]
  },
  {
   "cell_type": "code",
   "execution_count": 0,
   "metadata": {
    "colab": {},
    "colab_type": "code",
    "id": "XyX-VxxRsJtS"
   },
   "outputs": [],
   "source": [
    "# Model definitions\n",
    "\n",
    "# Function defining the energy balance ODE model for temperature T(t)\n",
    "def dT_dt(y, albedo):\n",
    "    T = y\n",
    "    rin = T0 * IncomingRad(albedo)\n",
    "    rout = T0 * OutgoingRad(T)\n",
    "    dTdt = rin - rout\n",
    "    return dTdt\n",
    "\n",
    "# Function defining the albedo dynamics\n",
    "def da_dt(T, y):\n",
    "    a = y\n",
    "    aeq = AlbedoEq(T)\n",
    "    dadt = delta*(aeq - a)\n",
    "    return dadt\n",
    "\n",
    "# Function calculating the (temperature-dependent) equilibrium albedo aeq(T)\n",
    "def AlbedoEq(T):\n",
    "    a_ice = 0.7\n",
    "    a_water = 0.3\n",
    "    Tc = 265.0    # transition point\n",
    "    wT = 20.0     # transition width\n",
    "    A = (a_ice + a_water) / 2\n",
    "    B = (a_ice - a_water) / 2\n",
    "    return A - B*np.tanh((T - Tc)/(wT/2))\n",
    "\n",
    "# Function calculating incoming radiation, scaled by the solar constant S0 (with or without stochastic noise)\n",
    "# Note: This is dimensionless\n",
    "def IncomingRad(albedo):\n",
    "    return (1.0 - albedo) / 4\n",
    "\n",
    "# Function calculating outgoing radiation (Stefan--Boltzmann), scaled by the solar constant S0\n",
    "# Note: This is dimensionless\n",
    "def OutgoingRad(T):\n",
    "    return (emissivity * sigma / S0) * (T)**4 \n",
    "\n",
    "# For our ODE solver, we need to put the system in vector form: d[T,a]/dt = [f(T,a),g(T,a)]\n",
    "# State variables:  State[0] -> temperature;  State[1] -> albedo\n",
    "def dState_dt(State, t):\n",
    "    return [dT_dt(State[0],State[1]), da_dt(State[0],State[1])]"
   ]
  },
  {
   "cell_type": "markdown",
   "metadata": {
    "colab_type": "text",
    "id": "jtuRbcMosJtV"
   },
   "source": [
    "Now we can solve the coupled system using a numerical solver."
   ]
  },
  {
   "cell_type": "code",
   "execution_count": 0,
   "metadata": {
    "colab": {},
    "colab_type": "code",
    "id": "sJNJlp3vsJtW"
   },
   "outputs": [],
   "source": [
    "# Solve the equation.\n",
    "State_init = [T_init, a_init]\n",
    "State_sol = odeint(dState_dt, State_init, timepoints)\n",
    "Temperature = State_sol[:,0]\n",
    "Albedo = State_sol[:,1]"
   ]
  },
  {
   "cell_type": "markdown",
   "metadata": {
    "colab_type": "text",
    "id": "m71dX73XsJta"
   },
   "source": [
    "###Plot Temperature and albedo as functions of time"
   ]
  },
  {
   "cell_type": "code",
   "execution_count": 0,
   "metadata": {
    "colab": {},
    "colab_type": "code",
    "id": "BilmffTOsJtb",
    "scrolled": true
   },
   "outputs": [],
   "source": [
    "plt.figure(1, figsize=(9, 3))\n",
    "plt.subplot(1, 2, 1)\n",
    "plt.plot(timepoints, Temperature)\n",
    "plt.xlabel('$t$ [years]')\n",
    "plt.ylabel('$T$ [K]')\n",
    "\n",
    "plt.subplot(1, 2, 2)\n",
    "plt.plot(timepoints, Albedo)\n",
    "plt.xlabel('$t$ [years]')\n",
    "plt.ylabel('albedo')\n",
    "plt.ylim([0.34,0.36])\n",
    "\n",
    "plt.tight_layout()"
   ]
  },
  {
   "cell_type": "markdown",
   "metadata": {
    "colab_type": "text",
    "id": "ihVGRUdwsJtg"
   },
   "source": [
    "For a graphical approach to steady-state solutions, use $a_\\text{eq}(T)$ and compare fluxes."
   ]
  },
  {
   "cell_type": "code",
   "execution_count": 0,
   "metadata": {
    "colab": {},
    "colab_type": "code",
    "id": "EKvmP9c0sJth"
   },
   "outputs": [],
   "source": [
    "# Calculate albedo and radiation for given tempeature range (no stochastic noise)\n",
    "\n",
    "albedo_func = AlbedoEq(temperature_range)\n",
    "rad_incoming = IncomingRad(albedo_func)\n",
    "rad_outgoing = OutgoingRad(temperature_range)\n",
    "rad_diff = rad_incoming - rad_outgoing"
   ]
  },
  {
   "cell_type": "code",
   "execution_count": 0,
   "metadata": {
    "colab": {},
    "colab_type": "code",
    "id": "UFtYZVbKsJtk"
   },
   "outputs": [],
   "source": [
    "plt.figure(1, figsize=(9, 3))\n",
    "plt.subplot(1, 3, 1)\n",
    "plt.plot(temperature_range, albedo_func)\n",
    "plt.ylabel('albedo')\n",
    "plt.xlabel('$T$ [K]')\n",
    "\n",
    "plt.subplot(1, 3, 2)\n",
    "plt.plot(temperature_range, rad_incoming)\n",
    "plt.plot(temperature_range, rad_outgoing)\n",
    "plt.xlabel('$T$ [K]')\n",
    "plt.ylabel('dimensionless flux')\n",
    "plt.ylim([0,0.3])\n",
    "\n",
    "plt.subplot(1, 3, 3)\n",
    "plt.plot(temperature_range, rad_diff)\n",
    "#plt.plot(temperature_range, np.zeros(temperature_range))\n",
    "plt.axhline(y=0,ls='--',c='k')\n",
    "plt.xlabel('$T$ [K]')\n",
    "plt.ylabel('dimensionless flux')\n",
    "plt.ylim([-0.1,0.1])\n",
    "\n",
    "plt.tight_layout()"
   ]
  },
  {
   "cell_type": "markdown",
   "metadata": {
    "colab_type": "text",
    "id": "IjbGizwZsJto"
   },
   "source": [
    "### Find the fixed points\n",
    "To find the fixed points, you can use `fsolve` to find the roots (*i.e.*, the zero crossings of $\\text{d}T/\\text{d}t$).  Choose the starting guess closer to the root you're interested in to get the value (The plots are useful for this!)."
   ]
  },
  {
   "cell_type": "code",
   "execution_count": 0,
   "metadata": {
    "colab": {},
    "colab_type": "code",
    "id": "MFheEkmOsJtp"
   },
   "outputs": [],
   "source": [
    "def flux_diff(T):\n",
    "    return IncomingRad(AlbedoEq(T)) - OutgoingRad(T)\n",
    "\n",
    "fixedpt = fsolve(flux_diff,220.0)    # T = 220 is a starting guess\n",
    "print(\"T = %.2f K\" %fixedpt)"
   ]
  },
  {
   "cell_type": "markdown",
   "metadata": {
    "colab_type": "text",
    "id": "d8oCtcybsJts"
   },
   "source": [
    "# The climate system with fluctuations\n",
    "Although a fixed point may be stable in deterministic setting, the addition of fluctuations or noise may push the system significantly out of equilibrium.  Let's examine the robustness of the fixed points to noise perturbations.\n",
    "\n",
    "With the addition of noise, an Ordinary Differential Equation (ODE) becomes a Stochastic Differential Equation (SDE), and unfortunately the solution methods become more subtle.  For our purposes, it will suffice to solve our SDE numerical with a simple forward-Euler timestepping approximation, wherein noise is added at each time step.  This *Euler–Maruyama method* entails one additional subtlety, which is that the noise term much be appropriately scaled to produce the desired variance in the solution.  In paricular, the noise is scaled by the *square root* of the time step: $\\text{d(noise)} = \\eta\\,\\sqrt{\\text{d}t}$."
   ]
  },
  {
   "cell_type": "code",
   "execution_count": 0,
   "metadata": {
    "colab": {},
    "colab_type": "code",
    "id": "mJ1WS2VlsJtt"
   },
   "outputs": [],
   "source": [
    "# Noise parameters\n",
    "# These should equate to the variance in the overal noise distribution\n",
    "eta_T = 5\n",
    "eta_a = 0.01"
   ]
  },
  {
   "cell_type": "markdown",
   "metadata": {
    "colab_type": "text",
    "id": "Q0bIcS1-elAr"
   },
   "source": [
    "Let's do an ensemble of noisey simulations over a long timescale."
   ]
  },
  {
   "cell_type": "code",
   "execution_count": 0,
   "metadata": {
    "colab": {},
    "colab_type": "code",
    "id": "PzkowbDWsJtx"
   },
   "outputs": [],
   "source": [
    "# Define time span for simulations\n",
    "\n",
    "num_sims = 1000 # number of runs\n",
    "\n",
    "time_init = 0\n",
    "time_end = 1000\n",
    "NumStep = 1000 # number of time steps\n",
    "dt = float(time_end - time_init) / NumStep # time step\n",
    "\n",
    "ts = np.arange(time_init, time_end, dt)\n",
    "Tstoc = np.zeros((num_sims,NumStep))    # initialize T\n",
    "Astoc = np.zeros((num_sims,NumStep))    # initialize a\n",
    "\n",
    "T_init = 280\n",
    "a_init = 0.35\n",
    "\n",
    "Tstoc[:,0] = T_init\n",
    "Astoc[:,0] = a_init\n",
    "\n",
    "# Noise function\n",
    "def dW(delta_t): \n",
    "    \"\"\"Sample a random number at each call.\"\"\"\n",
    "    return np.random.normal(loc = 0.0, scale = np.sqrt(delta_t)) # scale variance by time step"
   ]
  },
  {
   "cell_type": "code",
   "execution_count": 0,
   "metadata": {
    "colab": {},
    "colab_type": "code",
    "id": "a7MMwLXMsJt0"
   },
   "outputs": [],
   "source": [
    "# Euler–Maruyama method\n",
    "for k in range(num_sims):\n",
    "    for i in range(1, ts.size):\n",
    "        t = (i-1) * dt\n",
    "        T = Tstoc[k,i-1]\n",
    "        a = Astoc[k,i-1]\n",
    "        Tstoc[k,i] = T + dT_dt(T, a)*dt + eta_T * dW(dt)\n",
    "        Astoc[k,i] = a + da_dt(T, a)*dt + eta_a * dW(dt)"
   ]
  },
  {
   "cell_type": "markdown",
   "metadata": {
    "colab_type": "text",
    "id": "hlFcxVpZeua2"
   },
   "source": [
    "Take a look at a few realizations:"
   ]
  },
  {
   "cell_type": "code",
   "execution_count": 0,
   "metadata": {
    "colab": {},
    "colab_type": "code",
    "id": "q6gdS3pJsJt4"
   },
   "outputs": [],
   "source": [
    "for k in range (3):\n",
    "    plt.plot(ts, Tstoc[k,:], color = 'C0')\n",
    "    plt.xlabel('$t$ [years]')\n",
    "    plt.ylabel('$T$ [K]')\n",
    "plt.show()\n",
    "    \n",
    "for k in range (3):\n",
    "    plt.plot(ts, Astoc[k,:], color = 'C1')\n",
    "    plt.xlabel('$t$ [years]')\n",
    "    plt.ylabel('albedo')\n",
    "    #plt.ylim([0.3,0.5])\n",
    "plt.show()"
   ]
  },
  {
   "cell_type": "markdown",
   "metadata": {
    "colab_type": "text",
    "id": "lvpNKGcJe53Y"
   },
   "source": [
    "## Observations\n",
    "#### Does anything stand out to you? What do you notice and what do you wonder about?\n",
    "Play around with the values—initial conditions, noise magnitude, etc."
   ]
  },
  {
   "cell_type": "markdown",
   "metadata": {
    "colab_type": "text",
    "id": "ROM8b_GGfXeS"
   },
   "source": [
    "## Statistics\n",
    "At the end of each run, in what state is the climate system?  What is the overall distribution?  "
   ]
  },
  {
   "cell_type": "code",
   "execution_count": 0,
   "metadata": {
    "colab": {},
    "colab_type": "code",
    "id": "alXnHTiVsJt_"
   },
   "outputs": [],
   "source": [
    "Tends = Tstoc[:,-1]"
   ]
  },
  {
   "cell_type": "markdown",
   "metadata": {
    "colab_type": "text",
    "id": "yX132Sm9fxyQ"
   },
   "source": [
    "A histogram should reveal information about the distribution.  What do you see?  And how do you interpret the shape—what's similar; what's different; can you interpret the results?"
   ]
  },
  {
   "cell_type": "code",
   "execution_count": 0,
   "metadata": {
    "colab": {},
    "colab_type": "code",
    "id": "p6tt03-0sJuC"
   },
   "outputs": [],
   "source": [
    "n, bins, patches = plt.hist(x=Tends, bins='auto', color='C0', rwidth=0.90)\n",
    "plt.grid(axis='y', alpha=0.75)\n",
    "plt.xlabel('$T$ [K]')\n",
    "plt.ylabel('Frequency')\n",
    "plt.title('Temperature Histogram')\n",
    "plt.show()"
   ]
  },
  {
   "cell_type": "markdown",
   "metadata": {
    "colab_type": "text",
    "id": "mFACtp9ogP_f"
   },
   "source": [
    "What if instead of taking the final temperature values, we take the overall average temperature over each run seperately?  That is, we look at the global temperature history for each run, aggregate it with an average, and compare to many \"possible histories.\""
   ]
  },
  {
   "cell_type": "code",
   "execution_count": 0,
   "metadata": {
    "colab": {},
    "colab_type": "code",
    "id": "6ilVOIpngRNX"
   },
   "outputs": [],
   "source": [
    "std_list = np.zeros(num_sims)\n",
    "mean_list = np.zeros(num_sims)\n",
    "\n",
    "for k in range(num_sims):\n",
    "    std_list[k] = np.std(Tstoc[k,:])\n",
    "    \n",
    "for k in range(num_sims):\n",
    "    mean_list[k] = np.mean(Tstoc[k,:])"
   ]
  },
  {
   "cell_type": "code",
   "execution_count": 0,
   "metadata": {
    "colab": {},
    "colab_type": "code",
    "id": "XbE2zkDYsJuF"
   },
   "outputs": [],
   "source": [
    "n, bins, patches = plt.hist(x=mean_list, bins='auto', color='C0', rwidth=0.90)\n",
    "plt.grid(axis='y', alpha=0.75)\n",
    "plt.xlabel('$T$ [K]')\n",
    "plt.ylabel('Frequency')\n",
    "plt.title('Temperature averages')\n",
    "plt.show()"
   ]
  },
  {
   "cell_type": "markdown",
   "metadata": {
    "colab_type": "text",
    "id": "ReT5a_2Dg1hI"
   },
   "source": [
    "## Observations\n",
    "#### Does anything stand out to you? What do you notice and what do you wonder about?\n",
    "Again, play around with the values—initial conditions, noise magnitude, etc. to see how things change.\n",
    "\n",
    "Interpret your results in terms of the climate system.  "
   ]
  },
  {
   "cell_type": "markdown",
   "metadata": {
    "colab_type": "text",
    "id": "sUB-zyvvhMa2"
   },
   "source": [
    "What about the sensitivity of the climate fixed points?  According to the data, how much variance is associated with each \"stable\" state?  How does the variance of each state compare to each other?  To get a meaningful comparison, you may wish to use the calculate the Coefficient of Variation (CoV) for an appropriate neighborhood of each peak.\n",
    "\n",
    "Below is an alternative calculation in which the overall CoV is calculated for each run, and the distribution of CoV is displayed.  What does this plot tell us?"
   ]
  },
  {
   "cell_type": "code",
   "execution_count": 0,
   "metadata": {
    "colab": {},
    "colab_type": "code",
    "id": "5Tc1bUWhsJuJ"
   },
   "outputs": [],
   "source": [
    "n, bins, patches = plt.hist(x=std_list/mean_list, bins='auto', color='C0', rwidth=0.90)\n",
    "plt.grid(axis='y', alpha=0.75)\n",
    "plt.xlabel('CoV')\n",
    "plt.ylabel('Frequency')\n",
    "plt.title('Coefficient of variation (CoV)')\n",
    "plt.show()"
   ]
  }
 ],
 "metadata": {
  "colab": {
   "collapsed_sections": [],
   "name": "AM115-Climate_with_noise.ipynb",
   "provenance": [
    {
     "file_id": "1rJZlOU7MIh6rYqv9Tk4846IHWgaGiAt5",
     "timestamp": 1568664529672
    }
   ],
   "version": "0.3.2"
  },
  "kernelspec": {
   "display_name": "Python 3",
   "language": "python",
   "name": "python3"
  },
  "language_info": {
   "codemirror_mode": {
    "name": "ipython",
    "version": 3
   },
   "file_extension": ".py",
   "mimetype": "text/x-python",
   "name": "python",
   "nbconvert_exporter": "python",
   "pygments_lexer": "ipython3",
   "version": "3.6.5"
  }
 },
 "nbformat": 4,
 "nbformat_minor": 0
}
